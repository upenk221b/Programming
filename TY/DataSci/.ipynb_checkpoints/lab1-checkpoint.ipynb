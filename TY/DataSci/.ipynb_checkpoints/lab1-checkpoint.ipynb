{
 "cells": [
  {
   "cell_type": "code",
   "execution_count": 3,
   "metadata": {},
   "outputs": [],
   "source": [
    "import pandas as pd\n",
    "dict = {\"country\": [\"Brazil\", \"Russia\", \"India\", \"China\", \"South Africa\"],\n",
    "       \"capital\": [\"Brasilia\", \"Moscow\", \"New Dehli\", \"Beijing\", \"Pretoria\"],\n",
    "       \"area\": [8.516, 17.10, 3.286, 9.597, 1.221],\n",
    "       \"population\": [200.4, 143.5, 1252, 1357, 52.98] }"
   ]
  },
  {
   "cell_type": "code",
   "execution_count": 4,
   "metadata": {},
   "outputs": [
    {
     "name": "stdout",
     "output_type": "stream",
     "text": [
      "         country    capital    area  population\n",
      "BR        Brazil   Brasilia   8.516      200.40\n",
      "RS        Russia     Moscow  17.100      143.50\n",
      "IN         India  New Dehli   3.286     1252.00\n",
      "CN         China    Beijing   9.597     1357.00\n",
      "SA  South Africa   Pretoria   1.221       52.98\n"
     ]
    }
   ],
   "source": [
    "brics = pd.DataFrame(dict)\n",
    "brics.index = [\"BR\",\"RS\",\"IN\",\"CN\",\"SA\"]\n",
    "print(brics)"
   ]
  },
  {
   "cell_type": "code",
   "execution_count": 8,
   "metadata": {},
   "outputs": [
    {
     "name": "stdout",
     "output_type": "stream",
     "text": [
      "         country    capital    area  population    GDP\n",
      "BR        Brazil   Brasilia   8.516      200.40  100.0\n",
      "RS        Russia     Moscow  17.100      143.50  200.0\n",
      "IN         India  New Dehli   3.286     1252.00  500.0\n",
      "CN         China    Beijing   9.597     1357.00    0.2\n",
      "SA  South Africa   Pretoria   1.221       52.98  450.0\n"
     ]
    }
   ],
   "source": [
    "GDP = [100,200,500,0.2,450]\n",
    "brics[\"GDP\"] = GDP\n",
    "print(brics)"
   ]
  },
  {
   "cell_type": "code",
   "execution_count": 12,
   "metadata": {},
   "outputs": [
    {
     "name": "stdout",
     "output_type": "stream",
     "text": [
      "{'Emirates': ['Abu Dhabi', 'Dubai', 'Ajman', 'Fujairah', 'Ras al Khaimah', 'Sharjah', 'Umm al Quwain'], 'PCI(Million)': [50, 20, 5, 16, 9, 7, 4]}\n"
     ]
    }
   ],
   "source": [
    "UAE = {\"Emirates\":[\"Abu Dhabi\", \"Dubai\", \"Ajman\", \"Fujairah\", \"Ras al Khaimah\", \"Sharjah\",\"Umm al Quwain\"],\n",
    "       \"PCI(Million)\":[50,20,5,16,9,7,4] \n",
    "       }"
   ]
  },
  {
   "cell_type": "code",
   "execution_count": null,
   "metadata": {},
   "outputs": [],
   "source": []
  }
 ],
 "metadata": {
  "kernelspec": {
   "display_name": "Python 3",
   "language": "python",
   "name": "python3"
  },
  "language_info": {
   "codemirror_mode": {
    "name": "ipython",
    "version": 3
   },
   "file_extension": ".py",
   "mimetype": "text/x-python",
   "name": "python",
   "nbconvert_exporter": "python",
   "pygments_lexer": "ipython3",
   "version": "3.7.3"
  }
 },
 "nbformat": 4,
 "nbformat_minor": 2
}
